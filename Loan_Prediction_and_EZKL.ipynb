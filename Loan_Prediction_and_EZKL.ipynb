{
 "cells": [
  {
   "cell_type": "markdown",
   "metadata": {
    "id": "94OCQfJ0FzRN"
   },
   "source": [
    "I followed this notebook: https://www.kaggle.com/code/caesarmario/loan-prediction-w-various-ml-models/notebookand and used this Dataset: https://www.kaggle.com/datasets/burak3ergun/loan-data-set"
   ]
  },
  {
   "cell_type": "code",
   "execution_count": 1,
   "metadata": {},
   "outputs": [
    {
     "name": "stdout",
     "output_type": "stream",
     "text": [
      "Requirement already satisfied: numpy in /Users/carlo.falchi/Library/Python/3.13/lib/python/site-packages (2.2.3)\n",
      "Requirement already satisfied: pandas in /Users/carlo.falchi/Library/Python/3.13/lib/python/site-packages (2.2.3)\n",
      "Requirement already satisfied: numpy>=1.26.0 in /Users/carlo.falchi/Library/Python/3.13/lib/python/site-packages (from pandas) (2.2.3)\n",
      "Requirement already satisfied: python-dateutil>=2.8.2 in /Library/Frameworks/Python.framework/Versions/3.13/lib/python3.13/site-packages (from pandas) (2.9.0.post0)\n",
      "Requirement already satisfied: pytz>=2020.1 in /Users/carlo.falchi/Library/Python/3.13/lib/python/site-packages (from pandas) (2025.1)\n",
      "Requirement already satisfied: tzdata>=2022.7 in /Users/carlo.falchi/Library/Python/3.13/lib/python/site-packages (from pandas) (2025.1)\n",
      "Requirement already satisfied: six>=1.5 in /Library/Frameworks/Python.framework/Versions/3.13/lib/python3.13/site-packages (from python-dateutil>=2.8.2->pandas) (1.17.0)\n",
      "Requirement already satisfied: matplotlib in /Users/carlo.falchi/Library/Python/3.13/lib/python/site-packages (3.10.1)\n",
      "Requirement already satisfied: contourpy>=1.0.1 in /Users/carlo.falchi/Library/Python/3.13/lib/python/site-packages (from matplotlib) (1.3.1)\n",
      "Requirement already satisfied: cycler>=0.10 in /Users/carlo.falchi/Library/Python/3.13/lib/python/site-packages (from matplotlib) (0.12.1)\n",
      "Requirement already satisfied: fonttools>=4.22.0 in /Users/carlo.falchi/Library/Python/3.13/lib/python/site-packages (from matplotlib) (4.56.0)\n",
      "Requirement already satisfied: kiwisolver>=1.3.1 in /Users/carlo.falchi/Library/Python/3.13/lib/python/site-packages (from matplotlib) (1.4.8)\n",
      "Requirement already satisfied: numpy>=1.23 in /Users/carlo.falchi/Library/Python/3.13/lib/python/site-packages (from matplotlib) (2.2.3)\n",
      "Requirement already satisfied: packaging>=20.0 in /Library/Frameworks/Python.framework/Versions/3.13/lib/python3.13/site-packages (from matplotlib) (24.2)\n",
      "Requirement already satisfied: pillow>=8 in /Users/carlo.falchi/Library/Python/3.13/lib/python/site-packages (from matplotlib) (11.1.0)\n",
      "Requirement already satisfied: pyparsing>=2.3.1 in /Users/carlo.falchi/Library/Python/3.13/lib/python/site-packages (from matplotlib) (3.2.1)\n",
      "Requirement already satisfied: python-dateutil>=2.7 in /Library/Frameworks/Python.framework/Versions/3.13/lib/python3.13/site-packages (from matplotlib) (2.9.0.post0)\n",
      "Requirement already satisfied: six>=1.5 in /Library/Frameworks/Python.framework/Versions/3.13/lib/python3.13/site-packages (from python-dateutil>=2.7->matplotlib) (1.17.0)\n",
      "Requirement already satisfied: missingno in /Users/carlo.falchi/Library/Python/3.13/lib/python/site-packages (0.5.2)\n",
      "Requirement already satisfied: numpy in /Users/carlo.falchi/Library/Python/3.13/lib/python/site-packages (from missingno) (2.2.3)\n",
      "Requirement already satisfied: matplotlib in /Users/carlo.falchi/Library/Python/3.13/lib/python/site-packages (from missingno) (3.10.1)\n",
      "Requirement already satisfied: scipy in /Users/carlo.falchi/Library/Python/3.13/lib/python/site-packages (from missingno) (1.15.2)\n",
      "Requirement already satisfied: seaborn in /Users/carlo.falchi/Library/Python/3.13/lib/python/site-packages (from missingno) (0.13.2)\n",
      "Requirement already satisfied: contourpy>=1.0.1 in /Users/carlo.falchi/Library/Python/3.13/lib/python/site-packages (from matplotlib->missingno) (1.3.1)\n",
      "Requirement already satisfied: cycler>=0.10 in /Users/carlo.falchi/Library/Python/3.13/lib/python/site-packages (from matplotlib->missingno) (0.12.1)\n",
      "Requirement already satisfied: fonttools>=4.22.0 in /Users/carlo.falchi/Library/Python/3.13/lib/python/site-packages (from matplotlib->missingno) (4.56.0)\n",
      "Requirement already satisfied: kiwisolver>=1.3.1 in /Users/carlo.falchi/Library/Python/3.13/lib/python/site-packages (from matplotlib->missingno) (1.4.8)\n",
      "Requirement already satisfied: packaging>=20.0 in /Library/Frameworks/Python.framework/Versions/3.13/lib/python3.13/site-packages (from matplotlib->missingno) (24.2)\n",
      "Requirement already satisfied: pillow>=8 in /Users/carlo.falchi/Library/Python/3.13/lib/python/site-packages (from matplotlib->missingno) (11.1.0)\n",
      "Requirement already satisfied: pyparsing>=2.3.1 in /Users/carlo.falchi/Library/Python/3.13/lib/python/site-packages (from matplotlib->missingno) (3.2.1)\n",
      "Requirement already satisfied: python-dateutil>=2.7 in /Library/Frameworks/Python.framework/Versions/3.13/lib/python3.13/site-packages (from matplotlib->missingno) (2.9.0.post0)\n",
      "Requirement already satisfied: pandas>=1.2 in /Users/carlo.falchi/Library/Python/3.13/lib/python/site-packages (from seaborn->missingno) (2.2.3)\n",
      "Requirement already satisfied: pytz>=2020.1 in /Users/carlo.falchi/Library/Python/3.13/lib/python/site-packages (from pandas>=1.2->seaborn->missingno) (2025.1)\n",
      "Requirement already satisfied: tzdata>=2022.7 in /Users/carlo.falchi/Library/Python/3.13/lib/python/site-packages (from pandas>=1.2->seaborn->missingno) (2025.1)\n",
      "Requirement already satisfied: six>=1.5 in /Library/Frameworks/Python.framework/Versions/3.13/lib/python3.13/site-packages (from python-dateutil>=2.7->matplotlib->missingno) (1.17.0)\n",
      "Requirement already satisfied: scikit-learn in /Users/carlo.falchi/Library/Python/3.13/lib/python/site-packages (1.6.1)\n",
      "Requirement already satisfied: numpy>=1.19.5 in /Users/carlo.falchi/Library/Python/3.13/lib/python/site-packages (from scikit-learn) (2.2.3)\n",
      "Requirement already satisfied: scipy>=1.6.0 in /Users/carlo.falchi/Library/Python/3.13/lib/python/site-packages (from scikit-learn) (1.15.2)\n",
      "Requirement already satisfied: joblib>=1.2.0 in /Users/carlo.falchi/Library/Python/3.13/lib/python/site-packages (from scikit-learn) (1.4.2)\n",
      "Requirement already satisfied: threadpoolctl>=3.1.0 in /Users/carlo.falchi/Library/Python/3.13/lib/python/site-packages (from scikit-learn) (3.5.0)\n",
      "Requirement already satisfied: imblearn in /Users/carlo.falchi/Library/Python/3.13/lib/python/site-packages (0.0)\n",
      "Requirement already satisfied: imbalanced-learn in /Users/carlo.falchi/Library/Python/3.13/lib/python/site-packages (from imblearn) (0.13.0)\n",
      "Requirement already satisfied: numpy<3,>=1.24.3 in /Users/carlo.falchi/Library/Python/3.13/lib/python/site-packages (from imbalanced-learn->imblearn) (2.2.3)\n",
      "Requirement already satisfied: scipy<2,>=1.10.1 in /Users/carlo.falchi/Library/Python/3.13/lib/python/site-packages (from imbalanced-learn->imblearn) (1.15.2)\n",
      "Requirement already satisfied: scikit-learn<2,>=1.3.2 in /Users/carlo.falchi/Library/Python/3.13/lib/python/site-packages (from imbalanced-learn->imblearn) (1.6.1)\n",
      "Requirement already satisfied: sklearn-compat<1,>=0.1 in /Users/carlo.falchi/Library/Python/3.13/lib/python/site-packages (from imbalanced-learn->imblearn) (0.1.3)\n",
      "Requirement already satisfied: joblib<2,>=1.1.1 in /Users/carlo.falchi/Library/Python/3.13/lib/python/site-packages (from imbalanced-learn->imblearn) (1.4.2)\n",
      "Requirement already satisfied: threadpoolctl<4,>=2.0.0 in /Users/carlo.falchi/Library/Python/3.13/lib/python/site-packages (from imbalanced-learn->imblearn) (3.5.0)\n",
      "Requirement already satisfied: torch in /Users/carlo.falchi/Library/Python/3.13/lib/python/site-packages (2.6.0)\n",
      "Requirement already satisfied: filelock in /Users/carlo.falchi/Library/Python/3.13/lib/python/site-packages (from torch) (3.17.0)\n",
      "Requirement already satisfied: typing-extensions>=4.10.0 in /Library/Frameworks/Python.framework/Versions/3.13/lib/python3.13/site-packages (from torch) (4.12.2)\n",
      "Requirement already satisfied: networkx in /Users/carlo.falchi/Library/Python/3.13/lib/python/site-packages (from torch) (3.4.2)\n",
      "Requirement already satisfied: jinja2 in /Library/Frameworks/Python.framework/Versions/3.13/lib/python3.13/site-packages (from torch) (3.1.5)\n",
      "Requirement already satisfied: fsspec in /Users/carlo.falchi/Library/Python/3.13/lib/python/site-packages (from torch) (2025.3.0)\n",
      "Requirement already satisfied: setuptools in /Library/Frameworks/Python.framework/Versions/3.13/lib/python3.13/site-packages (from torch) (75.6.0)\n",
      "Requirement already satisfied: sympy==1.13.1 in /Users/carlo.falchi/Library/Python/3.13/lib/python/site-packages (from torch) (1.13.1)\n",
      "Requirement already satisfied: mpmath<1.4,>=1.1.0 in /Users/carlo.falchi/Library/Python/3.13/lib/python/site-packages (from sympy==1.13.1->torch) (1.3.0)\n",
      "Requirement already satisfied: MarkupSafe>=2.0 in /Library/Frameworks/Python.framework/Versions/3.13/lib/python3.13/site-packages (from jinja2->torch) (3.0.2)\n",
      "Requirement already satisfied: ezkl in /Users/carlo.falchi/Library/Python/3.13/lib/python/site-packages (20.2.4)\n",
      "Requirement already satisfied: hummingbird-ml in /Users/carlo.falchi/Library/Python/3.13/lib/python/site-packages (0.4.12)\n",
      "Requirement already satisfied: numpy>=1.15 in /Users/carlo.falchi/Library/Python/3.13/lib/python/site-packages (from hummingbird-ml) (2.2.3)\n",
      "Requirement already satisfied: onnxconverter-common>=1.6.0 in /Users/carlo.falchi/Library/Python/3.13/lib/python/site-packages (from hummingbird-ml) (1.14.0)\n",
      "Requirement already satisfied: onnx<=1.16.1 in /Users/carlo.falchi/Library/Python/3.13/lib/python/site-packages (from hummingbird-ml) (1.16.1)\n",
      "Requirement already satisfied: scipy in /Users/carlo.falchi/Library/Python/3.13/lib/python/site-packages (from hummingbird-ml) (1.15.2)\n",
      "Requirement already satisfied: scikit-learn in /Users/carlo.falchi/Library/Python/3.13/lib/python/site-packages (from hummingbird-ml) (1.6.1)\n",
      "Requirement already satisfied: torch>1.7.0 in /Users/carlo.falchi/Library/Python/3.13/lib/python/site-packages (from hummingbird-ml) (2.6.0)\n",
      "Requirement already satisfied: psutil in /Library/Frameworks/Python.framework/Versions/3.13/lib/python3.13/site-packages (from hummingbird-ml) (6.1.1)\n",
      "Requirement already satisfied: dill in /Users/carlo.falchi/Library/Python/3.13/lib/python/site-packages (from hummingbird-ml) (0.3.9)\n",
      "Requirement already satisfied: protobuf>=3.20.2 in /Users/carlo.falchi/Library/Python/3.13/lib/python/site-packages (from hummingbird-ml) (3.20.2)\n",
      "Requirement already satisfied: packaging in /Library/Frameworks/Python.framework/Versions/3.13/lib/python3.13/site-packages (from onnxconverter-common>=1.6.0->hummingbird-ml) (24.2)\n",
      "Requirement already satisfied: filelock in /Users/carlo.falchi/Library/Python/3.13/lib/python/site-packages (from torch>1.7.0->hummingbird-ml) (3.17.0)\n",
      "Requirement already satisfied: typing-extensions>=4.10.0 in /Library/Frameworks/Python.framework/Versions/3.13/lib/python3.13/site-packages (from torch>1.7.0->hummingbird-ml) (4.12.2)\n",
      "Requirement already satisfied: networkx in /Users/carlo.falchi/Library/Python/3.13/lib/python/site-packages (from torch>1.7.0->hummingbird-ml) (3.4.2)\n",
      "Requirement already satisfied: jinja2 in /Library/Frameworks/Python.framework/Versions/3.13/lib/python3.13/site-packages (from torch>1.7.0->hummingbird-ml) (3.1.5)\n",
      "Requirement already satisfied: fsspec in /Users/carlo.falchi/Library/Python/3.13/lib/python/site-packages (from torch>1.7.0->hummingbird-ml) (2025.3.0)\n",
      "Requirement already satisfied: setuptools in /Library/Frameworks/Python.framework/Versions/3.13/lib/python3.13/site-packages (from torch>1.7.0->hummingbird-ml) (75.6.0)\n",
      "Requirement already satisfied: sympy==1.13.1 in /Users/carlo.falchi/Library/Python/3.13/lib/python/site-packages (from torch>1.7.0->hummingbird-ml) (1.13.1)\n",
      "Requirement already satisfied: mpmath<1.4,>=1.1.0 in /Users/carlo.falchi/Library/Python/3.13/lib/python/site-packages (from sympy==1.13.1->torch>1.7.0->hummingbird-ml) (1.3.0)\n",
      "Requirement already satisfied: joblib>=1.2.0 in /Users/carlo.falchi/Library/Python/3.13/lib/python/site-packages (from scikit-learn->hummingbird-ml) (1.4.2)\n",
      "Requirement already satisfied: threadpoolctl>=3.1.0 in /Users/carlo.falchi/Library/Python/3.13/lib/python/site-packages (from scikit-learn->hummingbird-ml) (3.5.0)\n",
      "Requirement already satisfied: MarkupSafe>=2.0 in /Library/Frameworks/Python.framework/Versions/3.13/lib/python3.13/site-packages (from jinja2->torch>1.7.0->hummingbird-ml) (3.0.2)\n"
     ]
    }
   ],
   "source": [
    "import sys\n",
    "!{sys.executable} -m pip install --user numpy\n",
    "!{sys.executable} -m pip install --user pandas\n",
    "!{sys.executable} -m pip install --user matplotlib\n",
    "!{sys.executable} -m pip install --user missingno\n",
    "!{sys.executable} -m pip install --user scikit-learn\n",
    "!{sys.executable} -m pip install --user imblearn\n",
    "!{sys.executable} -m pip install --user torch\n",
    "!{sys.executable} -m pip install --user ezkl\n",
    "!{sys.executable} -m pip install --user hummingbird-ml"
   ]
  },
  {
   "cell_type": "code",
   "execution_count": 1,
   "metadata": {
    "id": "je--bBNumwE4"
   },
   "outputs": [],
   "source": [
    "import numpy as np\n",
    "import pandas as pd\n",
    "import matplotlib.pyplot as plt\n",
    "import missingno as mso\n",
    "import seaborn as sns\n",
    "import warnings\n",
    "import os\n",
    "import scipy\n",
    "\n",
    "from scipy import stats\n",
    "from scipy.stats import pearsonr\n",
    "from scipy.stats import ttest_ind\n",
    "from sklearn.metrics import classification_report\n",
    "from sklearn.metrics import confusion_matrix\n",
    "from sklearn.preprocessing import MinMaxScaler\n",
    "from sklearn.model_selection import train_test_split\n",
    "from imblearn.over_sampling import SMOTE\n",
    "\n",
    "from sklearn.linear_model import LogisticRegression\n",
    "from sklearn.model_selection import GridSearchCV, RandomizedSearchCV"
   ]
  },
  {
   "cell_type": "markdown",
   "metadata": {
    "id": "hbP7Aa-8wtzD"
   },
   "source": [
    "# Data Analysis"
   ]
  },
  {
   "cell_type": "code",
   "execution_count": 2,
   "metadata": {
    "colab": {
     "base_uri": "https://localhost:8080/",
     "height": 0
    },
    "id": "nmsQ6zcBnBGY",
    "outputId": "0258784c-27b2-4caf-8501-c9f79a346231"
   },
   "outputs": [
    {
     "data": {
      "text/html": [
       "<div>\n",
       "<style scoped>\n",
       "    .dataframe tbody tr th:only-of-type {\n",
       "        vertical-align: middle;\n",
       "    }\n",
       "\n",
       "    .dataframe tbody tr th {\n",
       "        vertical-align: top;\n",
       "    }\n",
       "\n",
       "    .dataframe thead th {\n",
       "        text-align: right;\n",
       "    }\n",
       "</style>\n",
       "<table border=\"1\" class=\"dataframe\">\n",
       "  <thead>\n",
       "    <tr style=\"text-align: right;\">\n",
       "      <th></th>\n",
       "      <th>Loan_ID</th>\n",
       "      <th>Gender</th>\n",
       "      <th>Married</th>\n",
       "      <th>Dependents</th>\n",
       "      <th>Education</th>\n",
       "      <th>Self_Employed</th>\n",
       "      <th>ApplicantIncome</th>\n",
       "      <th>CoapplicantIncome</th>\n",
       "      <th>LoanAmount</th>\n",
       "      <th>Loan_Amount_Term</th>\n",
       "      <th>Credit_History</th>\n",
       "      <th>Property_Area</th>\n",
       "      <th>Loan_Status</th>\n",
       "    </tr>\n",
       "  </thead>\n",
       "  <tbody>\n",
       "    <tr>\n",
       "      <th>0</th>\n",
       "      <td>LP001002</td>\n",
       "      <td>Male</td>\n",
       "      <td>No</td>\n",
       "      <td>0</td>\n",
       "      <td>Graduate</td>\n",
       "      <td>No</td>\n",
       "      <td>5849</td>\n",
       "      <td>0.0</td>\n",
       "      <td>NaN</td>\n",
       "      <td>360.0</td>\n",
       "      <td>1.0</td>\n",
       "      <td>Urban</td>\n",
       "      <td>Y</td>\n",
       "    </tr>\n",
       "    <tr>\n",
       "      <th>1</th>\n",
       "      <td>LP001003</td>\n",
       "      <td>Male</td>\n",
       "      <td>Yes</td>\n",
       "      <td>1</td>\n",
       "      <td>Graduate</td>\n",
       "      <td>No</td>\n",
       "      <td>4583</td>\n",
       "      <td>1508.0</td>\n",
       "      <td>128.0</td>\n",
       "      <td>360.0</td>\n",
       "      <td>1.0</td>\n",
       "      <td>Rural</td>\n",
       "      <td>N</td>\n",
       "    </tr>\n",
       "    <tr>\n",
       "      <th>2</th>\n",
       "      <td>LP001005</td>\n",
       "      <td>Male</td>\n",
       "      <td>Yes</td>\n",
       "      <td>0</td>\n",
       "      <td>Graduate</td>\n",
       "      <td>Yes</td>\n",
       "      <td>3000</td>\n",
       "      <td>0.0</td>\n",
       "      <td>66.0</td>\n",
       "      <td>360.0</td>\n",
       "      <td>1.0</td>\n",
       "      <td>Urban</td>\n",
       "      <td>Y</td>\n",
       "    </tr>\n",
       "    <tr>\n",
       "      <th>3</th>\n",
       "      <td>LP001006</td>\n",
       "      <td>Male</td>\n",
       "      <td>Yes</td>\n",
       "      <td>0</td>\n",
       "      <td>Not Graduate</td>\n",
       "      <td>No</td>\n",
       "      <td>2583</td>\n",
       "      <td>2358.0</td>\n",
       "      <td>120.0</td>\n",
       "      <td>360.0</td>\n",
       "      <td>1.0</td>\n",
       "      <td>Urban</td>\n",
       "      <td>Y</td>\n",
       "    </tr>\n",
       "    <tr>\n",
       "      <th>4</th>\n",
       "      <td>LP001008</td>\n",
       "      <td>Male</td>\n",
       "      <td>No</td>\n",
       "      <td>0</td>\n",
       "      <td>Graduate</td>\n",
       "      <td>No</td>\n",
       "      <td>6000</td>\n",
       "      <td>0.0</td>\n",
       "      <td>141.0</td>\n",
       "      <td>360.0</td>\n",
       "      <td>1.0</td>\n",
       "      <td>Urban</td>\n",
       "      <td>Y</td>\n",
       "    </tr>\n",
       "  </tbody>\n",
       "</table>\n",
       "</div>"
      ],
      "text/plain": [
       "    Loan_ID Gender Married Dependents     Education Self_Employed  \\\n",
       "0  LP001002   Male      No          0      Graduate            No   \n",
       "1  LP001003   Male     Yes          1      Graduate            No   \n",
       "2  LP001005   Male     Yes          0      Graduate           Yes   \n",
       "3  LP001006   Male     Yes          0  Not Graduate            No   \n",
       "4  LP001008   Male      No          0      Graduate            No   \n",
       "\n",
       "   ApplicantIncome  CoapplicantIncome  LoanAmount  Loan_Amount_Term  \\\n",
       "0             5849                0.0         NaN             360.0   \n",
       "1             4583             1508.0       128.0             360.0   \n",
       "2             3000                0.0        66.0             360.0   \n",
       "3             2583             2358.0       120.0             360.0   \n",
       "4             6000                0.0       141.0             360.0   \n",
       "\n",
       "   Credit_History Property_Area Loan_Status  \n",
       "0             1.0         Urban           Y  \n",
       "1             1.0         Rural           N  \n",
       "2             1.0         Urban           Y  \n",
       "3             1.0         Urban           Y  \n",
       "4             1.0         Urban           Y  "
      ]
     },
     "execution_count": 2,
     "metadata": {},
     "output_type": "execute_result"
    }
   ],
   "source": [
    "df = pd.read_csv(\"loan_data_set.csv\")\n",
    "df.head()"
   ]
  },
  {
   "cell_type": "code",
   "execution_count": 3,
   "metadata": {
    "colab": {
     "base_uri": "https://localhost:8080/"
    },
    "id": "pt9KYs-PnYWH",
    "outputId": "cb4e1461-dedb-4445-a9c1-48a5e14fe930"
   },
   "outputs": [
    {
     "name": "stdout",
     "output_type": "stream",
     "text": [
      "(614, 13)\n"
     ]
    }
   ],
   "source": [
    "# Numbers of Rows and Columns\n",
    "print(df.shape)"
   ]
  },
  {
   "cell_type": "code",
   "execution_count": 4,
   "metadata": {
    "colab": {
     "base_uri": "https://localhost:8080/"
    },
    "id": "HzgcKB8-nzxC",
    "outputId": "d6c67681-9018-4c69-f574-5d3a090c2778"
   },
   "outputs": [
    {
     "name": "stdout",
     "output_type": "stream",
     "text": [
      "Percentage of Good credit history: 77.36%\n",
      "Percentage of Bad credit history: 14.50%\n",
      "Missing values percentage: 8.14%\n"
     ]
    }
   ],
   "source": [
    "count1 = len(df[df.Credit_History == 1])\n",
    "count0 = len(df[df.Credit_History == 0])\n",
    "countNull = len(df[df.Credit_History.isnull()])\n",
    "\n",
    "print(\"Percentage of Good credit history: {:.2f}%\".format((count1 / (len(df.Credit_History))*100)))\n",
    "print(\"Percentage of Bad credit history: {:.2f}%\".format((count0 / (len(df.Credit_History))*100)))\n",
    "print(\"Missing values percentage: {:.2f}%\".format((countNull / (len(df.Credit_History))*100)))"
   ]
  },
  {
   "cell_type": "code",
   "execution_count": 5,
   "metadata": {
    "colab": {
     "base_uri": "https://localhost:8080/",
     "height": 0
    },
    "id": "vfRZGvnzoAZI",
    "outputId": "7c516d06-1afe-409e-828e-37b9bd6f7a40"
   },
   "outputs": [
    {
     "data": {
      "text/plain": [
       "Loan_Status\n",
       "Y    422\n",
       "N    192\n",
       "Name: count, dtype: int64"
      ]
     },
     "execution_count": 5,
     "metadata": {},
     "output_type": "execute_result"
    }
   ],
   "source": [
    "# Numbers of Accepted and Refused Loans\n",
    "df.Loan_Status.value_counts(dropna=False)"
   ]
  },
  {
   "cell_type": "code",
   "execution_count": 6,
   "metadata": {
    "colab": {
     "base_uri": "https://localhost:8080/",
     "height": 0
    },
    "id": "oNXYx_6vn6wO",
    "outputId": "5d25cc64-43bb-4190-dc87-ffb57e75f37a"
   },
   "outputs": [
    {
     "name": "stderr",
     "output_type": "stream",
     "text": [
      "/var/folders/q7/xnrc153s5n10s5s7ffbldyr80000gn/T/ipykernel_3323/1110804027.py:1: FutureWarning: \n",
      "\n",
      "Passing `palette` without assigning `hue` is deprecated and will be removed in v0.14.0. Assign the `x` variable to `hue` and set `legend=False` for the same effect.\n",
      "\n",
      "  sns.countplot(x=\"Loan_Status\", data=df, palette=\"YlOrBr\")\n"
     ]
    },
    {
     "data": {
      "image/png": "[encoded data removed]",
      "text/plain": [
       "<Figure size 640x480 with 1 Axes>"
      ]
     },
     "metadata": {},
     "output_type": "display_data"
    }
   ],
   "source": [
    "sns.countplot(x=\"Loan_Status\", data=df, palette=\"YlOrBr\")\n",
    "plt.show()"
   ]
  },
  {
   "cell_type": "code",
   "execution_count": 7,
   "metadata": {
    "colab": {
     "base_uri": "https://localhost:8080/"
    },
    "id": "bzKgGrcOoQOJ",
    "outputId": "3937fe9b-17dd-4e19-a83c-2cb1493791ac"
   },
   "outputs": [
    {
     "name": "stdout",
     "output_type": "stream",
     "text": [
      "Percentage of Approved: 68.73%\n",
      "Percentage of Rejected: 31.27%\n",
      "Missing values percentage: 0.00%\n"
     ]
    }
   ],
   "source": [
    "countY = len(df[df.Loan_Status == 'Y'])\n",
    "countN = len(df[df.Loan_Status == 'N'])\n",
    "countNull = len(df[df.Loan_Status.isnull()])\n",
    "\n",
    "print(\"Percentage of Approved: {:.2f}%\".format((countY / (len(df.Loan_Status))*100)))\n",
    "print(\"Percentage of Rejected: {:.2f}%\".format((countN / (len(df.Loan_Status))*100)))\n",
    "print(\"Missing values percentage: {:.2f}%\".format((countNull / (len(df.Loan_Status))*100)))"
   ]
  },
  {
   "cell_type": "code",
   "execution_count": 8,
   "metadata": {
    "colab": {
     "base_uri": "https://localhost:8080/",
     "height": 0
    },
    "id": "xUbe4YsGohYE",
    "outputId": "3b0502c5-f8b6-4684-e244-a36dd3f2397e"
   },
   "outputs": [
    {
     "data": {
      "text/plain": [
       "Loan_ID               0\n",
       "Gender               13\n",
       "Married               3\n",
       "Dependents           15\n",
       "Education             0\n",
       "Self_Employed        32\n",
       "ApplicantIncome       0\n",
       "CoapplicantIncome     0\n",
       "LoanAmount           22\n",
       "Loan_Amount_Term     14\n",
       "Credit_History       50\n",
       "Property_Area         0\n",
       "Loan_Status           0\n",
       "dtype: int64"
      ]
     },
     "execution_count": 8,
     "metadata": {},
     "output_type": "execute_result"
    }
   ],
   "source": [
    "# Null Values\n",
    "df.isnull().sum()"
   ]
  },
  {
   "cell_type": "markdown",
   "metadata": {
    "id": "2RD2RNhaonSG"
   },
   "source": [
    "# Data Preprocessing"
   ]
  },
  {
   "cell_type": "code",
   "execution_count": 9,
   "metadata": {
    "id": "MoSttmOJotrT"
   },
   "outputs": [],
   "source": [
    "# dropping useless column\n",
    "df = df.drop(['Loan_ID'], axis = 1)"
   ]
  },
  {
   "cell_type": "markdown",
   "metadata": {
    "id": "HQTpSMUfo1Pb"
   },
   "source": [
    "Imputation is a technique for substituting an estimated value for missing values in a dataset. In this section, the imputation will be performed for variables that have missing values."
   ]
  },
  {
   "cell_type": "code",
   "execution_count": 10,
   "metadata": {
    "colab": {
     "base_uri": "https://localhost:8080/"
    },
    "id": "keOrXz0Eo0Yx",
    "outputId": "e2643508-884f-4b7b-c9b4-d1b66ca3191a"
   },
   "outputs": [
    {
     "name": "stderr",
     "output_type": "stream",
     "text": [
      "/var/folders/q7/xnrc153s5n10s5s7ffbldyr80000gn/T/ipykernel_3323/857903944.py:1: FutureWarning: A value is trying to be set on a copy of a DataFrame or Series through chained assignment using an inplace method.\n",
      "The behavior will change in pandas 3.0. This inplace method will never work because the intermediate object on which we are setting values always behaves as a copy.\n",
      "\n",
      "For example, when doing 'df[col].method(value, inplace=True)', try using 'df.method({col: value}, inplace=True)' or df[col] = df[col].method(value) instead, to perform the operation inplace on the original object.\n",
      "\n",
      "\n",
      "  df['Gender'].fillna(df['Gender'].mode()[0],inplace=True)\n",
      "/var/folders/q7/xnrc153s5n10s5s7ffbldyr80000gn/T/ipykernel_3323/857903944.py:2: FutureWarning: A value is trying to be set on a copy of a DataFrame or Series through chained assignment using an inplace method.\n",
      "The behavior will change in pandas 3.0. This inplace method will never work because the intermediate object on which we are setting values always behaves as a copy.\n",
      "\n",
      "For example, when doing 'df[col].method(value, inplace=True)', try using 'df.method({col: value}, inplace=True)' or df[col] = df[col].method(value) instead, to perform the operation inplace on the original object.\n",
      "\n",
      "\n",
      "  df['Married'].fillna(df['Married'].mode()[0],inplace=True)\n",
      "/var/folders/q7/xnrc153s5n10s5s7ffbldyr80000gn/T/ipykernel_3323/857903944.py:3: FutureWarning: A value is trying to be set on a copy of a DataFrame or Series through chained assignment using an inplace method.\n",
      "The behavior will change in pandas 3.0. This inplace method will never work because the intermediate object on which we are setting values always behaves as a copy.\n",
      "\n",
      "For example, when doing 'df[col].method(value, inplace=True)', try using 'df.method({col: value}, inplace=True)' or df[col] = df[col].method(value) instead, to perform the operation inplace on the original object.\n",
      "\n",
      "\n",
      "  df['Dependents'].fillna(df['Dependents'].mode()[0],inplace=True)\n",
      "/var/folders/q7/xnrc153s5n10s5s7ffbldyr80000gn/T/ipykernel_3323/857903944.py:4: FutureWarning: A value is trying to be set on a copy of a DataFrame or Series through chained assignment using an inplace method.\n",
      "The behavior will change in pandas 3.0. This inplace method will never work because the intermediate object on which we are setting values always behaves as a copy.\n",
      "\n",
      "For example, when doing 'df[col].method(value, inplace=True)', try using 'df.method({col: value}, inplace=True)' or df[col] = df[col].method(value) instead, to perform the operation inplace on the original object.\n",
      "\n",
      "\n",
      "  df['Self_Employed'].fillna(df['Self_Employed'].mode()[0],inplace=True)\n",
      "/var/folders/q7/xnrc153s5n10s5s7ffbldyr80000gn/T/ipykernel_3323/857903944.py:5: FutureWarning: A value is trying to be set on a copy of a DataFrame or Series through chained assignment using an inplace method.\n",
      "The behavior will change in pandas 3.0. This inplace method will never work because the intermediate object on which we are setting values always behaves as a copy.\n",
      "\n",
      "For example, when doing 'df[col].method(value, inplace=True)', try using 'df.method({col: value}, inplace=True)' or df[col] = df[col].method(value) instead, to perform the operation inplace on the original object.\n",
      "\n",
      "\n",
      "  df['Credit_History'].fillna(df['Credit_History'].mode()[0],inplace=True)\n",
      "/var/folders/q7/xnrc153s5n10s5s7ffbldyr80000gn/T/ipykernel_3323/857903944.py:6: FutureWarning: A value is trying to be set on a copy of a DataFrame or Series through chained assignment using an inplace method.\n",
      "The behavior will change in pandas 3.0. This inplace method will never work because the intermediate object on which we are setting values always behaves as a copy.\n",
      "\n",
      "For example, when doing 'df[col].method(value, inplace=True)', try using 'df.method({col: value}, inplace=True)' or df[col] = df[col].method(value) instead, to perform the operation inplace on the original object.\n",
      "\n",
      "\n",
      "  df['Loan_Amount_Term'].fillna(df['Loan_Amount_Term'].mode()[0],inplace=True)\n",
      "/var/folders/q7/xnrc153s5n10s5s7ffbldyr80000gn/T/ipykernel_3323/857903944.py:7: FutureWarning: A value is trying to be set on a copy of a DataFrame or Series through chained assignment using an inplace method.\n",
      "The behavior will change in pandas 3.0. This inplace method will never work because the intermediate object on which we are setting values always behaves as a copy.\n",
      "\n",
      "For example, when doing 'df[col].method(value, inplace=True)', try using 'df.method({col: value}, inplace=True)' or df[col] = df[col].method(value) instead, to perform the operation inplace on the original object.\n",
      "\n",
      "\n",
      "  df['LoanAmount'].fillna(df['LoanAmount'].mean(),inplace=True)\n"
     ]
    }
   ],
   "source": [
    "df['Gender'].fillna(df['Gender'].mode()[0],inplace=True)\n",
    "df['Married'].fillna(df['Married'].mode()[0],inplace=True)\n",
    "df['Dependents'].fillna(df['Dependents'].mode()[0],inplace=True)\n",
    "df['Self_Employed'].fillna(df['Self_Employed'].mode()[0],inplace=True)\n",
    "df['Credit_History'].fillna(df['Credit_History'].mode()[0],inplace=True)\n",
    "df['Loan_Amount_Term'].fillna(df['Loan_Amount_Term'].mode()[0],inplace=True)\n",
    "df['LoanAmount'].fillna(df['LoanAmount'].mean(),inplace=True)"
   ]
  },
  {
   "cell_type": "code",
   "execution_count": 11,
   "metadata": {
    "colab": {
     "base_uri": "https://localhost:8080/",
     "height": 0
    },
    "id": "-75vhYQhpk_6",
    "outputId": "abcc40ae-3948-456a-b241-0ad686d4fe1d"
   },
   "outputs": [
    {
     "data": {
      "text/html": [
       "<div>\n",
       "<style scoped>\n",
       "    .dataframe tbody tr th:only-of-type {\n",
       "        vertical-align: middle;\n",
       "    }\n",
       "\n",
       "    .dataframe tbody tr th {\n",
       "        vertical-align: top;\n",
       "    }\n",
       "\n",
       "    .dataframe thead th {\n",
       "        text-align: right;\n",
       "    }\n",
       "</style>\n",
       "<table border=\"1\" class=\"dataframe\">\n",
       "  <thead>\n",
       "    <tr style=\"text-align: right;\">\n",
       "      <th></th>\n",
       "      <th>Gender</th>\n",
       "      <th>Married</th>\n",
       "      <th>Dependents</th>\n",
       "      <th>Education</th>\n",
       "      <th>Self_Employed</th>\n",
       "      <th>ApplicantIncome</th>\n",
       "      <th>CoapplicantIncome</th>\n",
       "      <th>LoanAmount</th>\n",
       "      <th>Loan_Amount_Term</th>\n",
       "      <th>Credit_History</th>\n",
       "      <th>Property_Area</th>\n",
       "      <th>Loan_Status</th>\n",
       "    </tr>\n",
       "  </thead>\n",
       "  <tbody>\n",
       "    <tr>\n",
       "      <th>0</th>\n",
       "      <td>Male</td>\n",
       "      <td>No</td>\n",
       "      <td>0</td>\n",
       "      <td>Graduate</td>\n",
       "      <td>No</td>\n",
       "      <td>5849</td>\n",
       "      <td>0.0</td>\n",
       "      <td>146.412162</td>\n",
       "      <td>360.0</td>\n",
       "      <td>1.0</td>\n",
       "      <td>Urban</td>\n",
       "      <td>Y</td>\n",
       "    </tr>\n",
       "    <tr>\n",
       "      <th>1</th>\n",
       "      <td>Male</td>\n",
       "      <td>Yes</td>\n",
       "      <td>1</td>\n",
       "      <td>Graduate</td>\n",
       "      <td>No</td>\n",
       "      <td>4583</td>\n",
       "      <td>1508.0</td>\n",
       "      <td>128.000000</td>\n",
       "      <td>360.0</td>\n",
       "      <td>1.0</td>\n",
       "      <td>Rural</td>\n",
       "      <td>N</td>\n",
       "    </tr>\n",
       "    <tr>\n",
       "      <th>2</th>\n",
       "      <td>Male</td>\n",
       "      <td>Yes</td>\n",
       "      <td>0</td>\n",
       "      <td>Graduate</td>\n",
       "      <td>Yes</td>\n",
       "      <td>3000</td>\n",
       "      <td>0.0</td>\n",
       "      <td>66.000000</td>\n",
       "      <td>360.0</td>\n",
       "      <td>1.0</td>\n",
       "      <td>Urban</td>\n",
       "      <td>Y</td>\n",
       "    </tr>\n",
       "    <tr>\n",
       "      <th>3</th>\n",
       "      <td>Male</td>\n",
       "      <td>Yes</td>\n",
       "      <td>0</td>\n",
       "      <td>Not Graduate</td>\n",
       "      <td>No</td>\n",
       "      <td>2583</td>\n",
       "      <td>2358.0</td>\n",
       "      <td>120.000000</td>\n",
       "      <td>360.0</td>\n",
       "      <td>1.0</td>\n",
       "      <td>Urban</td>\n",
       "      <td>Y</td>\n",
       "    </tr>\n",
       "    <tr>\n",
       "      <th>4</th>\n",
       "      <td>Male</td>\n",
       "      <td>No</td>\n",
       "      <td>0</td>\n",
       "      <td>Graduate</td>\n",
       "      <td>No</td>\n",
       "      <td>6000</td>\n",
       "      <td>0.0</td>\n",
       "      <td>141.000000</td>\n",
       "      <td>360.0</td>\n",
       "      <td>1.0</td>\n",
       "      <td>Urban</td>\n",
       "      <td>Y</td>\n",
       "    </tr>\n",
       "  </tbody>\n",
       "</table>\n",
       "</div>"
      ],
      "text/plain": [
       "  Gender Married Dependents     Education Self_Employed  ApplicantIncome  \\\n",
       "0   Male      No          0      Graduate            No             5849   \n",
       "1   Male     Yes          1      Graduate            No             4583   \n",
       "2   Male     Yes          0      Graduate           Yes             3000   \n",
       "3   Male     Yes          0  Not Graduate            No             2583   \n",
       "4   Male      No          0      Graduate            No             6000   \n",
       "\n",
       "   CoapplicantIncome  LoanAmount  Loan_Amount_Term  Credit_History  \\\n",
       "0                0.0  146.412162             360.0             1.0   \n",
       "1             1508.0  128.000000             360.0             1.0   \n",
       "2                0.0   66.000000             360.0             1.0   \n",
       "3             2358.0  120.000000             360.0             1.0   \n",
       "4                0.0  141.000000             360.0             1.0   \n",
       "\n",
       "  Property_Area Loan_Status  \n",
       "0         Urban           Y  \n",
       "1         Rural           N  \n",
       "2         Urban           Y  \n",
       "3         Urban           Y  \n",
       "4         Urban           Y  "
      ]
     },
     "execution_count": 11,
     "metadata": {},
     "output_type": "execute_result"
    }
   ],
   "source": [
    "df.head()"
   ]
  },
  {
   "cell_type": "code",
   "execution_count": 12,
   "metadata": {
    "id": "dLPSUTnOpFMS"
   },
   "outputs": [],
   "source": [
    "df = pd.get_dummies(df)\n",
    "\n",
    "# Drop columns\n",
    "df = df.drop(['Gender_Female', 'Married_No', 'Education_Not Graduate',\n",
    "              'Self_Employed_No', 'Loan_Status_N'], axis = 1)\n",
    "\n",
    "# Rename columns name\n",
    "new = {'Gender_Male': 'Gender', 'Married_Yes': 'Married',\n",
    "       'Education_Graduate': 'Education', 'Self_Employed_Yes': 'Self_Employed',\n",
    "       'Loan_Status_Y': 'Loan_Status'}\n",
    "\n",
    "df.rename(columns=new, inplace=True)"
   ]
  },
  {
   "cell_type": "code",
   "execution_count": 13,
   "metadata": {
    "colab": {
     "base_uri": "https://localhost:8080/",
     "height": 0
    },
    "id": "USiV7o32p4vO",
    "outputId": "f9a4d495-20ca-48ef-ba5f-79751eb8165a"
   },
   "outputs": [
    {
     "data": {
      "text/html": [
       "<div>\n",
       "<style scoped>\n",
       "    .dataframe tbody tr th:only-of-type {\n",
       "        vertical-align: middle;\n",
       "    }\n",
       "\n",
       "    .dataframe tbody tr th {\n",
       "        vertical-align: top;\n",
       "    }\n",
       "\n",
       "    .dataframe thead th {\n",
       "        text-align: right;\n",
       "    }\n",
       "</style>\n",
       "<table border=\"1\" class=\"dataframe\">\n",
       "  <thead>\n",
       "    <tr style=\"text-align: right;\">\n",
       "      <th></th>\n",
       "      <th>ApplicantIncome</th>\n",
       "      <th>CoapplicantIncome</th>\n",
       "      <th>LoanAmount</th>\n",
       "      <th>Loan_Amount_Term</th>\n",
       "      <th>Credit_History</th>\n",
       "      <th>Gender</th>\n",
       "      <th>Married</th>\n",
       "      <th>Dependents_0</th>\n",
       "      <th>Dependents_1</th>\n",
       "      <th>Dependents_2</th>\n",
       "      <th>Dependents_3+</th>\n",
       "      <th>Education</th>\n",
       "      <th>Self_Employed</th>\n",
       "      <th>Property_Area_Rural</th>\n",
       "      <th>Property_Area_Semiurban</th>\n",
       "      <th>Property_Area_Urban</th>\n",
       "      <th>Loan_Status</th>\n",
       "    </tr>\n",
       "  </thead>\n",
       "  <tbody>\n",
       "    <tr>\n",
       "      <th>0</th>\n",
       "      <td>5849</td>\n",
       "      <td>0.0</td>\n",
       "      <td>146.412162</td>\n",
       "      <td>360.0</td>\n",
       "      <td>1.0</td>\n",
       "      <td>True</td>\n",
       "      <td>False</td>\n",
       "      <td>True</td>\n",
       "      <td>False</td>\n",
       "      <td>False</td>\n",
       "      <td>False</td>\n",
       "      <td>True</td>\n",
       "      <td>False</td>\n",
       "      <td>False</td>\n",
       "      <td>False</td>\n",
       "      <td>True</td>\n",
       "      <td>True</td>\n",
       "    </tr>\n",
       "    <tr>\n",
       "      <th>1</th>\n",
       "      <td>4583</td>\n",
       "      <td>1508.0</td>\n",
       "      <td>128.000000</td>\n",
       "      <td>360.0</td>\n",
       "      <td>1.0</td>\n",
       "      <td>True</td>\n",
       "      <td>True</td>\n",
       "      <td>False</td>\n",
       "      <td>True</td>\n",
       "      <td>False</td>\n",
       "      <td>False</td>\n",
       "      <td>True</td>\n",
       "      <td>False</td>\n",
       "      <td>True</td>\n",
       "      <td>False</td>\n",
       "      <td>False</td>\n",
       "      <td>False</td>\n",
       "    </tr>\n",
       "    <tr>\n",
       "      <th>2</th>\n",
       "      <td>3000</td>\n",
       "      <td>0.0</td>\n",
       "      <td>66.000000</td>\n",
       "      <td>360.0</td>\n",
       "      <td>1.0</td>\n",
       "      <td>True</td>\n",
       "      <td>True</td>\n",
       "      <td>True</td>\n",
       "      <td>False</td>\n",
       "      <td>False</td>\n",
       "      <td>False</td>\n",
       "      <td>True</td>\n",
       "      <td>True</td>\n",
       "      <td>False</td>\n",
       "      <td>False</td>\n",
       "      <td>True</td>\n",
       "      <td>True</td>\n",
       "    </tr>\n",
       "    <tr>\n",
       "      <th>3</th>\n",
       "      <td>2583</td>\n",
       "      <td>2358.0</td>\n",
       "      <td>120.000000</td>\n",
       "      <td>360.0</td>\n",
       "      <td>1.0</td>\n",
       "      <td>True</td>\n",
       "      <td>True</td>\n",
       "      <td>True</td>\n",
       "      <td>False</td>\n",
       "      <td>False</td>\n",
       "      <td>False</td>\n",
       "      <td>False</td>\n",
       "      <td>False</td>\n",
       "      <td>False</td>\n",
       "      <td>False</td>\n",
       "      <td>True</td>\n",
       "      <td>True</td>\n",
       "    </tr>\n",
       "    <tr>\n",
       "      <th>4</th>\n",
       "      <td>6000</td>\n",
       "      <td>0.0</td>\n",
       "      <td>141.000000</td>\n",
       "      <td>360.0</td>\n",
       "      <td>1.0</td>\n",
       "      <td>True</td>\n",
       "      <td>False</td>\n",
       "      <td>True</td>\n",
       "      <td>False</td>\n",
       "      <td>False</td>\n",
       "      <td>False</td>\n",
       "      <td>True</td>\n",
       "      <td>False</td>\n",
       "      <td>False</td>\n",
       "      <td>False</td>\n",
       "      <td>True</td>\n",
       "      <td>True</td>\n",
       "    </tr>\n",
       "  </tbody>\n",
       "</table>\n",
       "</div>"
      ],
      "text/plain": [
       "   ApplicantIncome  CoapplicantIncome  LoanAmount  Loan_Amount_Term  \\\n",
       "0             5849                0.0  146.412162             360.0   \n",
       "1             4583             1508.0  128.000000             360.0   \n",
       "2             3000                0.0   66.000000             360.0   \n",
       "3             2583             2358.0  120.000000             360.0   \n",
       "4             6000                0.0  141.000000             360.0   \n",
       "\n",
       "   Credit_History  Gender  Married  Dependents_0  Dependents_1  Dependents_2  \\\n",
       "0             1.0    True    False          True         False         False   \n",
       "1             1.0    True     True         False          True         False   \n",
       "2             1.0    True     True          True         False         False   \n",
       "3             1.0    True     True          True         False         False   \n",
       "4             1.0    True    False          True         False         False   \n",
       "\n",
       "   Dependents_3+  Education  Self_Employed  Property_Area_Rural  \\\n",
       "0          False       True          False                False   \n",
       "1          False       True          False                 True   \n",
       "2          False       True           True                False   \n",
       "3          False      False          False                False   \n",
       "4          False       True          False                False   \n",
       "\n",
       "   Property_Area_Semiurban  Property_Area_Urban  Loan_Status  \n",
       "0                    False                 True         True  \n",
       "1                    False                False        False  \n",
       "2                    False                 True         True  \n",
       "3                    False                 True         True  \n",
       "4                    False                 True         True  "
      ]
     },
     "execution_count": 13,
     "metadata": {},
     "output_type": "execute_result"
    }
   ],
   "source": [
    "df.head()"
   ]
  },
  {
   "cell_type": "markdown",
   "metadata": {
    "id": "E6FMhYYY-oT-"
   },
   "source": [
    "# Data Normalization"
   ]
  },
  {
   "cell_type": "code",
   "execution_count": 30,
   "metadata": {
    "id": "NSmQ0a9mr98I"
   },
   "outputs": [],
   "source": [
    "# Square Root Transformation\n",
    "df.ApplicantIncome = np.sqrt(df.ApplicantIncome)\n",
    "df.CoapplicantIncome = np.sqrt(df.CoapplicantIncome)\n",
    "df.LoanAmount = np.sqrt(df.LoanAmount)"
   ]
  },
  {
   "cell_type": "code",
   "execution_count": 31,
   "metadata": {},
   "outputs": [
    {
     "data": {
      "text/html": [
       "<div>\n",
       "<style scoped>\n",
       "    .dataframe tbody tr th:only-of-type {\n",
       "        vertical-align: middle;\n",
       "    }\n",
       "\n",
       "    .dataframe tbody tr th {\n",
       "        vertical-align: top;\n",
       "    }\n",
       "\n",
       "    .dataframe thead th {\n",
       "        text-align: right;\n",
       "    }\n",
       "</style>\n",
       "<table border=\"1\" class=\"dataframe\">\n",
       "  <thead>\n",
       "    <tr style=\"text-align: right;\">\n",
       "      <th></th>\n",
       "      <th>ApplicantIncome</th>\n",
       "      <th>CoapplicantIncome</th>\n",
       "      <th>LoanAmount</th>\n",
       "      <th>Loan_Amount_Term</th>\n",
       "      <th>Credit_History</th>\n",
       "      <th>Gender</th>\n",
       "      <th>Married</th>\n",
       "      <th>Dependents_0</th>\n",
       "      <th>Dependents_1</th>\n",
       "      <th>Dependents_2</th>\n",
       "      <th>Dependents_3+</th>\n",
       "      <th>Education</th>\n",
       "      <th>Self_Employed</th>\n",
       "      <th>Property_Area_Rural</th>\n",
       "      <th>Property_Area_Semiurban</th>\n",
       "      <th>Property_Area_Urban</th>\n",
       "      <th>Loan_Status</th>\n",
       "    </tr>\n",
       "  </thead>\n",
       "  <tbody>\n",
       "    <tr>\n",
       "      <th>0</th>\n",
       "      <td>8.745213</td>\n",
       "      <td>0.000000</td>\n",
       "      <td>3.478518</td>\n",
       "      <td>360.0</td>\n",
       "      <td>1.0</td>\n",
       "      <td>True</td>\n",
       "      <td>False</td>\n",
       "      <td>True</td>\n",
       "      <td>False</td>\n",
       "      <td>False</td>\n",
       "      <td>False</td>\n",
       "      <td>True</td>\n",
       "      <td>False</td>\n",
       "      <td>False</td>\n",
       "      <td>False</td>\n",
       "      <td>True</td>\n",
       "      <td>True</td>\n",
       "    </tr>\n",
       "    <tr>\n",
       "      <th>1</th>\n",
       "      <td>8.227871</td>\n",
       "      <td>6.231611</td>\n",
       "      <td>3.363586</td>\n",
       "      <td>360.0</td>\n",
       "      <td>1.0</td>\n",
       "      <td>True</td>\n",
       "      <td>True</td>\n",
       "      <td>False</td>\n",
       "      <td>True</td>\n",
       "      <td>False</td>\n",
       "      <td>False</td>\n",
       "      <td>True</td>\n",
       "      <td>False</td>\n",
       "      <td>True</td>\n",
       "      <td>False</td>\n",
       "      <td>False</td>\n",
       "      <td>False</td>\n",
       "    </tr>\n",
       "    <tr>\n",
       "      <th>2</th>\n",
       "      <td>7.400828</td>\n",
       "      <td>0.000000</td>\n",
       "      <td>2.850270</td>\n",
       "      <td>360.0</td>\n",
       "      <td>1.0</td>\n",
       "      <td>True</td>\n",
       "      <td>True</td>\n",
       "      <td>True</td>\n",
       "      <td>False</td>\n",
       "      <td>False</td>\n",
       "      <td>False</td>\n",
       "      <td>True</td>\n",
       "      <td>True</td>\n",
       "      <td>False</td>\n",
       "      <td>False</td>\n",
       "      <td>True</td>\n",
       "      <td>True</td>\n",
       "    </tr>\n",
       "    <tr>\n",
       "      <th>3</th>\n",
       "      <td>7.129041</td>\n",
       "      <td>6.968446</td>\n",
       "      <td>3.309751</td>\n",
       "      <td>360.0</td>\n",
       "      <td>1.0</td>\n",
       "      <td>True</td>\n",
       "      <td>True</td>\n",
       "      <td>True</td>\n",
       "      <td>False</td>\n",
       "      <td>False</td>\n",
       "      <td>False</td>\n",
       "      <td>False</td>\n",
       "      <td>False</td>\n",
       "      <td>False</td>\n",
       "      <td>False</td>\n",
       "      <td>True</td>\n",
       "      <td>True</td>\n",
       "    </tr>\n",
       "    <tr>\n",
       "      <th>4</th>\n",
       "      <td>8.801117</td>\n",
       "      <td>0.000000</td>\n",
       "      <td>3.445917</td>\n",
       "      <td>360.0</td>\n",
       "      <td>1.0</td>\n",
       "      <td>True</td>\n",
       "      <td>False</td>\n",
       "      <td>True</td>\n",
       "      <td>False</td>\n",
       "      <td>False</td>\n",
       "      <td>False</td>\n",
       "      <td>True</td>\n",
       "      <td>False</td>\n",
       "      <td>False</td>\n",
       "      <td>False</td>\n",
       "      <td>True</td>\n",
       "      <td>True</td>\n",
       "    </tr>\n",
       "  </tbody>\n",
       "</table>\n",
       "</div>"
      ],
      "text/plain": [
       "   ApplicantIncome  CoapplicantIncome  LoanAmount  Loan_Amount_Term  \\\n",
       "0         8.745213           0.000000    3.478518             360.0   \n",
       "1         8.227871           6.231611    3.363586             360.0   \n",
       "2         7.400828           0.000000    2.850270             360.0   \n",
       "3         7.129041           6.968446    3.309751             360.0   \n",
       "4         8.801117           0.000000    3.445917             360.0   \n",
       "\n",
       "   Credit_History  Gender  Married  Dependents_0  Dependents_1  Dependents_2  \\\n",
       "0             1.0    True    False          True         False         False   \n",
       "1             1.0    True     True         False          True         False   \n",
       "2             1.0    True     True          True         False         False   \n",
       "3             1.0    True     True          True         False         False   \n",
       "4             1.0    True    False          True         False         False   \n",
       "\n",
       "   Dependents_3+  Education  Self_Employed  Property_Area_Rural  \\\n",
       "0          False       True          False                False   \n",
       "1          False       True          False                 True   \n",
       "2          False       True           True                False   \n",
       "3          False      False          False                False   \n",
       "4          False       True          False                False   \n",
       "\n",
       "   Property_Area_Semiurban  Property_Area_Urban  Loan_Status  \n",
       "0                    False                 True         True  \n",
       "1                    False                False        False  \n",
       "2                    False                 True         True  \n",
       "3                    False                 True         True  \n",
       "4                    False                 True         True  "
      ]
     },
     "execution_count": 31,
     "metadata": {},
     "output_type": "execute_result"
    }
   ],
   "source": [
    "df.head()"
   ]
  },
  {
   "cell_type": "code",
   "execution_count": 32,
   "metadata": {
    "colab": {
     "base_uri": "https://localhost:8080/",
     "height": 0
    },
    "id": "mtrPxqossCBD",
    "outputId": "06fde68f-4834-4406-b5f4-023afdcd281e"
   },
   "outputs": [
    {
     "data": {
      "image/png": "[encoded data removed]",
      "text/plain": [
       "<Figure size 1000x800 with 4 Axes>"
      ]
     },
     "metadata": {},
     "output_type": "display_data"
    }
   ],
   "source": [
    "sns.set(style=\"darkgrid\")\n",
    "fig, axs = plt.subplots(2, 2, figsize=(10, 8))\n",
    "\n",
    "sns.histplot(data=df, x=\"ApplicantIncome\", kde=True, ax=axs[0, 0], color='green')\n",
    "sns.histplot(data=df, x=\"CoapplicantIncome\", kde=True, ax=axs[0, 1], color='skyblue')\n",
    "sns.histplot(data=df, x=\"LoanAmount\", kde=True, ax=axs[1, 0], color='orange');"
   ]
  },
  {
   "cell_type": "code",
   "execution_count": 33,
   "metadata": {
    "id": "XqhPDTjVsSXh"
   },
   "outputs": [],
   "source": [
    "X = df.drop([\"Loan_Status\"], axis=1)\n",
    "y = df[\"Loan_Status\"]"
   ]
  },
  {
   "cell_type": "markdown",
   "metadata": {
    "id": "GUbICaJ7tfLW"
   },
   "source": [
    "The number between approved and rejected loan is imbalanced. In this section, oversampling technique will be used to avoid overfitting,"
   ]
  },
  {
   "cell_type": "code",
   "execution_count": 34,
   "metadata": {
    "id": "xzJfWnwO15Js"
   },
   "outputs": [],
   "source": [
    "# Conversion of labels to int values for ZK\n",
    "y_int = y.astype(int)"
   ]
  },
  {
   "cell_type": "markdown",
   "metadata": {
    "id": "CC4r-KPUtWOJ"
   },
   "source": [
    "In this section, data normalization will be performed to normalize the range of independent variables or features of data."
   ]
  },
  {
   "cell_type": "code",
   "execution_count": 35,
   "metadata": {
    "id": "bJWbzesxsoD9"
   },
   "outputs": [],
   "source": [
    "scaler = MinMaxScaler()\n",
    "X_scaled = scaler.fit_transform(X)"
   ]
  },
  {
   "cell_type": "code",
   "execution_count": 37,
   "metadata": {},
   "outputs": [
    {
     "name": "stdout",
     "output_type": "stream",
     "text": [
      "[0.39232167 0.         0.51191496 0.74358974 1.         1.\n",
      " 0.         1.         0.         0.         0.         1.\n",
      " 0.         0.         0.         1.        ]\n"
     ]
    }
   ],
   "source": [
    "print(X_scaled[0])"
   ]
  },
  {
   "cell_type": "code",
   "execution_count": 41,
   "metadata": {},
   "outputs": [
    {
     "name": "stdout",
     "output_type": "stream",
     "text": [
      "[3.4996355115805833, 0.0, 1.7320508075688772, 12.0, 0.0, 0.0, 0.0, 0.0, 0.0, 0.0, 0.0, 0.0, 0.0, 0.0, 0.0, 0.0]\n",
      "[16.87023975571047, 14.287230722812572, 5.143686723610402, 480.0, 1.0, 1.0, 1.0, 1.0, 1.0, 1.0, 1.0, 1.0, 1.0, 1.0, 1.0, 1.0]\n"
     ]
    }
   ],
   "source": [
    "min_values = X.min(axis=0)\n",
    "max_values = X.max(axis=0)\n",
    "\n",
    "min_values_list = [float(val) for val in min_values.tolist()]\n",
    "max_values_list = [float(val) for val in max_values.tolist()]\n",
    "\n",
    "print(min_values_list)\n",
    "print(max_values_list)\n"
   ]
  },
  {
   "cell_type": "markdown",
   "metadata": {
    "id": "37YxOVg_wgxg"
   },
   "source": [
    "# Training"
   ]
  },
  {
   "cell_type": "code",
   "execution_count": 44,
   "metadata": {
    "id": "wyVs5sxysqRW"
   },
   "outputs": [],
   "source": [
    "X_train, X_test, y_train, y_test = train_test_split(X, y_int, test_size = 0.2, random_state = 0)"
   ]
  },
  {
   "cell_type": "code",
   "execution_count": 45,
   "metadata": {
    "colab": {
     "base_uri": "https://localhost:8080/",
     "height": 476
    },
    "id": "hE2cwqsOZwHU",
    "outputId": "c3d6f454-1d94-43eb-b8e3-994b4e1d5210"
   },
   "outputs": [
    {
     "data": {
      "image/png": "[encoded data removed]",
      "text/plain": [
       "<Figure size 640x480 with 1 Axes>"
      ]
     },
     "metadata": {},
     "output_type": "display_data"
    },
    {
     "name": "stdout",
     "output_type": "stream",
     "text": [
      "Random Forest Accuracy:  82.93%\n"
     ]
    }
   ],
   "source": [
    "from sklearn.ensemble import RandomForestClassifier\n",
    "scoreListRF = []\n",
    "#changed the n_estimators from 1000 to 100 in order to simplify the model\n",
    "for i in range(2,25):\n",
    "    RFclassifier = RandomForestClassifier(n_estimators = 100, random_state = 1, max_leaf_nodes=i)\n",
    "    RFclassifier.fit(X_train, y_train)\n",
    "    scoreListRF.append(RFclassifier.score(X_test, y_test))\n",
    "\n",
    "plt.plot(range(2,25), scoreListRF)\n",
    "plt.xticks(np.arange(2,25,1))\n",
    "plt.xlabel(\"RF Value\")\n",
    "plt.ylabel(\"Score\")\n",
    "plt.show()\n",
    "RFAcc = max(scoreListRF)\n",
    "print(\"Random Forest Accuracy:  {:.2f}%\".format(RFAcc*100))"
   ]
  },
  {
   "cell_type": "code",
   "execution_count": 31,
   "metadata": {
    "colab": {
     "base_uri": "https://localhost:8080/"
    },
    "id": "npQIEuvBst9D",
    "outputId": "8c2a402a-2075-442f-dea4-e87d3c9b5f24"
   },
   "outputs": [
    {
     "name": "stdout",
     "output_type": "stream",
     "text": [
      "              precision    recall  f1-score   support\n",
      "\n",
      "           0       0.98      0.69      0.81        86\n",
      "           1       0.75      0.99      0.85        83\n",
      "\n",
      "    accuracy                           0.83       169\n",
      "   macro avg       0.87      0.84      0.83       169\n",
      "weighted avg       0.87      0.83      0.83       169\n",
      "\n",
      "[[59 27]\n",
      " [ 1 82]]\n",
      "LR accuracy: 83.43%\n"
     ]
    }
   ],
   "source": [
    "# LRclassifier = LogisticRegression(solver='liblinear', max_iter=500, random_state=1)\n",
    "#  LRclassifier.fit(X_train, y_train)\n",
    "\n",
    "# y_pred = LRclassifier.predict(X_test)\n",
    "\n",
    "# # print(classification_report(y_test, y_pred))\n",
    "# print(confusion_matrix(y_test, y_pred))\n",
    "\n",
    "# from sklearn.metrics import accuracy_score\n",
    "# LRAcc = accuracy_score(y_pred,y_test)\n",
    "# print('LR accuracy: {:.2f}%'.format(LRAcc*100))"
   ]
  },
  {
   "cell_type": "markdown",
   "metadata": {
    "id": "3q3Q0ADuwOcj"
   },
   "source": [
    "# EZKL"
   ]
  },
  {
   "cell_type": "code",
   "execution_count": 46,
   "metadata": {
    "id": "JqG6n6YQvsjj"
   },
   "outputs": [],
   "source": [
    "try:\n",
    "    # install ezkl\n",
    "    import google.colab\n",
    "    import subprocess\n",
    "    import sys\n",
    "    subprocess.check_call([sys.executable, \"-m\", \"pip\", \"install\", \"ezkl\"])\n",
    "    subprocess.check_call([sys.executable, \"-m\", \"pip\", \"install\", \"onnx\"])\n",
    "    subprocess.check_call([sys.executable, \"-m\", \"pip\", \"install\", \"hummingbird-ml\"])\n",
    "    subprocess.check_call([sys.executable, \"-m\", \"pip\", \"install\", \"onnx-simplifier\"])\n",
    "# rely on local installation of ezkl if the notebook is not in colab\n",
    "except:\n",
    "    pass\n",
    "\n",
    "import torch\n",
    "import ezkl\n",
    "import json\n",
    "from hummingbird.ml import convert"
   ]
  },
  {
   "cell_type": "code",
   "execution_count": 68,
   "metadata": {
    "id": "y0uWocHhCQiK"
   },
   "outputs": [],
   "source": [
    "model_path = os.path.join('model/network.onnx')\n",
    "compiled_model_path = os.path.join('ezkl/network.compiled')\n",
    "pk_path = os.path.join('ezkl/proving.pk') # Proving Key\n",
    "vk_path = os.path.join('ezkl/vk.vk') # Verification key\n",
    "settings_path = os.path.join('ezkl/settings.json')\n",
    "\n",
    "witness_path = os.path.join('ezkl/witness.json')\n",
    "data_path = os.path.join('ezkl/input.json')"
   ]
  },
  {
   "cell_type": "markdown",
   "metadata": {
    "id": "Xybv58ZyUkuy",
    "jp-MarkdownHeadingCollapsed": true
   },
   "source": [
    "# Convert Logistic Regression (doesn't work, skip this section)"
   ]
  },
  {
   "cell_type": "code",
   "execution_count": 32,
   "metadata": {
    "colab": {
     "base_uri": "https://localhost:8080/"
    },
    "id": "D8z_XILsyLmN",
    "outputId": "aec86ad6-518e-4d65-8165-68f87df26ae1"
   },
   "outputs": [
    {
     "name": "stdout",
     "output_type": "stream",
     "text": [
      "Original Weigths (float): [[ 0.30903251 -0.17418812 -0.23265714  0.1143514   3.78691097 -0.07775063\n",
      "   0.46684778 -1.67342779 -1.740764   -1.27752735 -1.5345883   0.04190685\n",
      "  -0.36170819 -2.67997756 -1.97089518 -2.5274467 ]]\n",
      "Quantized Weights (int): [[  309  -174  -232   114  3786   -77   466 -1673 -1740 -1277 -1534    41\n",
      "   -361 -2679 -1970 -2527]]\n"
     ]
    }
   ],
   "source": [
    "# Weights of the model\n",
    "weights_float = LRclassifier.coef_\n",
    "\n",
    "# Quantization\n",
    "scale_factor = 1000\n",
    "weights_int = (weights_float * scale_factor).astype(np.int32)\n",
    "\n",
    "# Modifying the weights\n",
    "LRclassifier.coef_ = weights_int\n",
    "\n",
    "print(\"Original Weigths (float):\", weights_float)\n",
    "print(\"Quantized Weights (int):\", weights_int)"
   ]
  },
  {
   "cell_type": "code",
   "execution_count": 15,
   "metadata": {
    "colab": {
     "base_uri": "https://localhost:8080/",
     "height": 162
    },
    "id": "YKVIp6t2tASv",
    "outputId": "fdd908d2-1b0f-4b02-f782-0621e4915f03"
   },
   "outputs": [
    {
     "ename": "NameError",
     "evalue": "name 'convert' is not defined",
     "output_type": "error",
     "traceback": [
      "\u001b[0;31m---------------------------------------------------------------------------\u001b[0m",
      "\u001b[0;31mNameError\u001b[0m                                 Traceback (most recent call last)",
      "\u001b[0;32m<ipython-input-15-35962cdae6b0>\u001b[0m in \u001b[0;36m<cell line: 0>\u001b[0;34m()\u001b[0m\n\u001b[1;32m      1\u001b[0m \u001b[0;31m# Convert the model to the Pytorch format\u001b[0m\u001b[0;34m\u001b[0m\u001b[0;34m\u001b[0m\u001b[0m\n\u001b[0;32m----> 2\u001b[0;31m \u001b[0mcircuit\u001b[0m \u001b[0;34m=\u001b[0m \u001b[0mconvert\u001b[0m\u001b[0;34m(\u001b[0m\u001b[0mLRclassifier\u001b[0m\u001b[0;34m,\u001b[0m \u001b[0;34m\"torch\"\u001b[0m\u001b[0;34m,\u001b[0m \u001b[0mX\u001b[0m\u001b[0;34m[\u001b[0m\u001b[0;34m:\u001b[0m\u001b[0;36m1\u001b[0m\u001b[0;34m]\u001b[0m\u001b[0;34m)\u001b[0m\u001b[0;34m.\u001b[0m\u001b[0mmodel\u001b[0m\u001b[0;34m\u001b[0m\u001b[0;34m\u001b[0m\u001b[0m\n\u001b[0m",
      "\u001b[0;31mNameError\u001b[0m: name 'convert' is not defined"
     ]
    }
   ],
   "source": [
    "# Convert the model to the Pytorch format\n",
    "circuit = convert(LRclassifier, \"torch\", X[:1]).model"
   ]
  },
  {
   "cell_type": "code",
   "execution_count": null,
   "metadata": {
    "id": "ugVApnGi3VM2"
   },
   "outputs": [],
   "source": [
    "# export to onnx format\n",
    "# !!!!!!!!!!!!!!!!! This will flash a warning but it is fine !!!!!!!!!!!!!!!!!!!!!\n",
    "\n",
    "# Input to the model\n",
    "shape = X.shape[1:]\n",
    "x = torch.rand(1, *shape, requires_grad=True)\n",
    "torch_out = circuit(x)\n",
    "# Export the model\n",
    "torch.onnx.export(circuit,               # model being run\n",
    "                  # model input (or a tuple for multiple inputs)\n",
    "                  x,\n",
    "                  # where to save the model (can be a file or file-like object)\n",
    "                  \"network.onnx\",\n",
    "                  export_params=True,        # store the trained parameter weights inside the model file\n",
    "                  opset_version=10,          # the ONNX version to export the model to\n",
    "                  do_constant_folding=True,  # whether to execute constant folding for optimization\n",
    "                  input_names=['input'],   # the model's input names\n",
    "                  output_names=['output'],  # the model's output names\n",
    "                  dynamic_axes={'input': {0: 'batch_size'},    # variable length axes\n",
    "                                'output': {0: 'batch_size'}})\n",
    "\n",
    "d = ((x).detach().numpy()).reshape([-1]).tolist()\n",
    "\n",
    "data = dict(input_shapes=[shape],\n",
    "            input_data=[d],\n",
    "            output_data=[((o).detach().numpy()).reshape([-1]).tolist() for o in torch_out])\n",
    "\n",
    "# Serialize data into file:\n",
    "json.dump(data, open(\"input.json\", 'w'))"
   ]
  },
  {
   "cell_type": "code",
   "execution_count": null,
   "metadata": {
    "id": "51xEuP6eUwuy"
   },
   "outputs": [],
   "source": [
    "!RUST_LOG=trace\n",
    "# TODO: Dictionary outputs\n",
    "res = ezkl.gen_settings(\"network.onnx\", settings_path)\n",
    "assert res == True"
   ]
  },
  {
   "cell_type": "markdown",
   "metadata": {
    "id": "kTuioDO5Uxtg"
   },
   "source": [
    "# Convert Random Forest"
   ]
  },
  {
   "cell_type": "code",
   "execution_count": 48,
   "metadata": {
    "id": "6NSh7W3mT7ii"
   },
   "outputs": [],
   "source": [
    "torch_rf = convert(RFclassifier, \"torch\")"
   ]
  },
  {
   "cell_type": "code",
   "execution_count": 56,
   "metadata": {
    "id": "7p3_Mo0HTqqz"
   },
   "outputs": [],
   "source": [
    "# !!!!!!!!!!!!!!!!! This cell will flash a warning about onnx runtime compat but it is fine !!!!!!!!!!!!!!!!!!!!!\n",
    "\n",
    "\n",
    "# export to onnx format\n",
    "\n",
    "# Input to the model\n",
    "shape = X_train.shape[1:]\n",
    "x = torch.rand(1, *shape, requires_grad=False)\n",
    "torch_out = torch_rf.predict(x)\n",
    "# Export the model\n",
    "torch.onnx.export(torch_rf.model,               # model being run\n",
    "                  # model input (or a tuple for multiple inputs)\n",
    "                  x,\n",
    "                  # where to save the model (can be a file or file-like object)\n",
    "                  model_path,\n",
    "                  export_params=True,        # store the trained parameter weights inside the model file\n",
    "                  opset_version=11,          # the ONNX version to export the model to\n",
    "                  do_constant_folding=True,  # whether to execute constant folding for optimization\n",
    "                  input_names=['input'],   # the model's input names\n",
    "                  output_names=['output'],  # the model's output names\n",
    "                  dynamic_axes={'input': {0: 'batch_size'},    # variable length axes\n",
    "                                'output': {0: 'batch_size'}})\n",
    "\n",
    "d = ((x).detach().numpy()).reshape([-1]).tolist()\n",
    "\n",
    "data = dict(input_shapes=[shape],\n",
    "            input_data=[d],\n",
    "            output_data=[o.reshape([-1]).tolist() for o in torch_out])\n",
    "\n",
    "# Serialize data into file:\n",
    "json.dump(data, open(data_path, 'w'))"
   ]
  },
  {
   "cell_type": "code",
   "execution_count": 57,
   "metadata": {
    "id": "1knN1aVHVD0V"
   },
   "outputs": [],
   "source": [
    "run_args = ezkl.PyRunArgs()\n",
    "# logrows\n",
    "run_args.logrows = 18\n",
    "run_args.input_visibility = \"private\"\n",
    "run_args.param_visibility = \"fixed\"\n",
    "run_args.output_visibility = \"public\"\n",
    "run_args.variables = [(\"batch_size\", 1)]\n",
    "\n",
    "res = ezkl.gen_settings(model_path, settings_path, py_run_args=run_args)\n",
    "assert res == True"
   ]
  },
  {
   "cell_type": "markdown",
   "metadata": {
    "id": "tilOGQl8XbDL"
   },
   "source": [
    "# Setup"
   ]
  },
  {
   "cell_type": "code",
   "execution_count": 64,
   "metadata": {
    "colab": {
     "base_uri": "https://localhost:8080/"
    },
    "id": "IXkSinDdV9zF",
    "outputId": "8318ac1c-7e8a-4f54-8038-f7df706ba3c5"
   },
   "outputs": [
    {
     "name": "stderr",
     "output_type": "stream",
     "text": [
      "\n",
      "\n",
      " <------------- Numerical Fidelity Report (input_scale: 2, param_scale: 2, scale_input_multiplier: 10) ------------->\n",
      "\n",
      "+------------+--------------+-----------+-----------+----------------+------------------+---------------+---------------+--------------------+--------------------+------------------------+\n",
      "| mean_error | median_error | max_error | min_error | mean_abs_error | median_abs_error | max_abs_error | min_abs_error | mean_squared_error | mean_percent_error | mean_abs_percent_error |\n",
      "+------------+--------------+-----------+-----------+----------------+------------------+---------------+---------------+--------------------+--------------------+------------------------+\n",
      "| 0.33333328 | 0.7359444    | 0.7359444 | 0         | 0.33333328     | 0.7359444        | 0.7359444     | 0             | 0.20377982         | 0.6666667          | 0.6666667              |\n",
      "+------------+--------------+-----------+-----------+----------------+------------------+---------------+---------------+--------------------+--------------------+------------------------+\n",
      "\n",
      "\n"
     ]
    }
   ],
   "source": [
    "cal_path = os.path.join(\"ezkl/calibration.json\")\n",
    "\n",
    "# use the test set to calibrate the circuit\n",
    "cal_data = dict(input_data = X_test.flatten().tolist())\n",
    "\n",
    "# Serialize calibration data into file:\n",
    "json.dump(data, open(cal_path, 'w'))\n",
    "\n",
    "# Optimize for resources, we cap logrows at 12 to reduce setup and proving time, at the expense of accuracy\n",
    "# You may want to increase the max logrows if accuracy is a concern\n",
    "res = await ezkl.calibrate_settings(data = cal_path, model = model_path, settings = settings_path, target = \"resources\", max_logrows = 12, scales = [2])"
   ]
  },
  {
   "cell_type": "code",
   "execution_count": 65,
   "metadata": {
    "colab": {
     "base_uri": "https://localhost:8080/"
    },
    "id": "ngCisMrdXQMZ",
    "outputId": "7ab41b65-8d21-489f-a3cd-ba9bfddec861"
   },
   "outputs": [
    {
     "name": "stderr",
     "output_type": "stream",
     "text": [
      "low scale values (<8) may impact precision\n"
     ]
    }
   ],
   "source": [
    "res = ezkl.compile_circuit(model_path, compiled_model_path, settings_path)\n",
    "assert res == True"
   ]
  },
  {
   "cell_type": "code",
   "execution_count": 66,
   "metadata": {
    "id": "exxN_9pBXpK2"
   },
   "outputs": [],
   "source": [
    "# srs path\n",
    "res = await ezkl.get_srs( settings_path)"
   ]
  },
  {
   "cell_type": "code",
   "execution_count": 69,
   "metadata": {
    "id": "J5c0KQElX7Zw"
   },
   "outputs": [],
   "source": [
    "# HERE WE SETUP THE CIRCUIT PARAMS\n",
    "# WE GOT KEYS\n",
    "# WE GOT CIRCUIT PARAMETERS\n",
    "# EVERYTHING ANYONE HAS EVER NEEDED FOR ZK\n",
    "\n",
    "res = ezkl.setup(\n",
    "        compiled_model_path,\n",
    "        vk_path,\n",
    "        pk_path,\n",
    "\n",
    "    )\n",
    "\n",
    "assert res == True\n",
    "assert os.path.isfile(vk_path)\n",
    "assert os.path.isfile(pk_path)\n",
    "assert os.path.isfile(settings_path)"
   ]
  },
  {
   "cell_type": "markdown",
   "metadata": {
    "id": "ev8FYYbTYAX0"
   },
   "source": [
    "# Proof & Verify"
   ]
  },
  {
   "cell_type": "code",
   "execution_count": 30,
   "metadata": {
    "editable": true,
    "id": "pQ09vC17X40J",
    "slideshow": {
     "slide_type": ""
    },
    "tags": []
   },
   "outputs": [],
   "source": [
    "# now generate the witness file\n",
    "\n",
    "res = await ezkl.gen_witness(data_path, compiled_model_path, witness_path)\n",
    "assert os.path.isfile(witness_path)"
   ]
  },
  {
   "cell_type": "code",
   "execution_count": 32,
   "metadata": {
    "id": "V8JcPpqAX8jM"
   },
   "outputs": [
    {
     "name": "stdout",
     "output_type": "stream",
     "text": [
      "{'instances': [['0000000000000000000000000000000000000000000000000000000000000000', '0000000000000000000000000000000000000000000000000000000000000000', '0000000000000000000000000000000000000000000000000000000000000000']], 'proof': '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', 'transcript_type': 'EVM'}\n"
     ]
    }
   ],
   "source": [
    "# GENERATE A PROOF\n",
    "proof_path = os.path.join('test.pf')\n",
    "\n",
    "res = ezkl.prove(\n",
    "        witness_path,\n",
    "        compiled_model_path,\n",
    "        pk_path,\n",
    "        proof_path,\n",
    "\n",
    "        \"single\",\n",
    "    )\n",
    "\n",
    "print(res)\n",
    "assert os.path.isfile(proof_path)"
   ]
  },
  {
   "cell_type": "code",
   "execution_count": 33,
   "metadata": {
    "id": "PY0I6ZTXYDw6"
   },
   "outputs": [
    {
     "name": "stdout",
     "output_type": "stream",
     "text": [
      "verified\n"
     ]
    }
   ],
   "source": [
    "# VERIFY IT\n",
    "\n",
    "res = ezkl.verify(\n",
    "        proof_path,\n",
    "        settings_path,\n",
    "        vk_path,\n",
    "\n",
    "    )\n",
    "\n",
    "assert res == True\n",
    "print(\"verified\")"
   ]
  }
 ],
 "metadata": {
  "colab": {
   "collapsed_sections": [
    "E6FMhYYY-oT-"
   ],
   "provenance": []
  },
  "kernelspec": {
   "display_name": "venv",
   "language": "python",
   "name": "python3"
  },
  "language_info": {
   "codemirror_mode": {
    "name": "ipython",
    "version": 3
   },
   "file_extension": ".py",
   "mimetype": "text/x-python",
   "name": "python",
   "nbconvert_exporter": "python",
   "pygments_lexer": "ipython3",
   "version": "3.12.1"
  }
 },
 "nbformat": 4,
 "nbformat_minor": 4
}
